{
 "cells": [
  {
   "cell_type": "code",
   "execution_count": 5,
   "metadata": {},
   "outputs": [
    {
     "name": "stdout",
     "output_type": "stream",
     "text": [
      "/home/user/jacobs/cudavision\n"
     ]
    }
   ],
   "source": [
    "import sys, os\n",
    "working_directory = os.path.dirname(sys.path[0])\n",
    "sys.path.append(os.path.dirname(sys.path[0]))\n",
    "print(working_directory)"
   ]
  },
  {
   "cell_type": "code",
   "execution_count": 64,
   "metadata": {},
   "outputs": [],
   "source": [
    "import shutil\n",
    "from download import download"
   ]
  },
  {
   "cell_type": "code",
   "execution_count": 65,
   "metadata": {},
   "outputs": [
    {
     "name": "stdout",
     "output_type": "stream",
     "text": [
      "Beginning file download with urllib2...\n",
      "Creating /home/user/jacobs/cudavision/blob/dataset/\n",
      "Creating /home/user/jacobs/cudavision/blob/forceTest/\n",
      "Creating /home/user/jacobs/cudavision/blob/forceTrain/\n",
      "Creating /home/user/jacobs/cudavision/segmentation/dataset/image/\n",
      "Creating /home/user/jacobs/cudavision/segmentation/dataset/target/\n",
      "Creating /home/user/jacobs/cudavision/segmentation/forceTrain/image/\n",
      "Creating /home/user/jacobs/cudavision/segmentation/forceTrain/target/\n"
     ]
    }
   ],
   "source": [
    "download(working_directory)"
   ]
  },
  {
   "cell_type": "code",
   "execution_count": 34,
   "metadata": {},
   "outputs": [
    {
     "name": "stdout",
     "output_type": "stream",
     "text": [
      "Warning. The following procedure assumes /home/user/jacobs/cudavision/data is empty.\n"
     ]
    }
   ],
   "source": [
    "data_dir = os.path.join(working_directory,'data')\n",
    "if os.path.isdir(data_dir):\n",
    "    print(\"Warning. The following procedure assumes \" + data_dir + \" is empty.\")\n",
    "else:\n",
    "    os.makedirs(data_dir)"
   ]
  },
  {
   "cell_type": "code",
   "execution_count": 35,
   "metadata": {},
   "outputs": [
    {
     "name": "stdout",
     "output_type": "stream",
     "text": [
      "/home/user/jacobs/cudavision/data/Train\n",
      "/home/user/jacobs/cudavision/data/Train/segmentation\n",
      "/home/user/jacobs/cudavision/data/Train/image\n",
      "/home/user/jacobs/cudavision/data/Train/detection\n",
      "/home/user/jacobs/cudavision/data/Test\n",
      "/home/user/jacobs/cudavision/data/Test/segmentation\n",
      "/home/user/jacobs/cudavision/data/Test/image\n",
      "/home/user/jacobs/cudavision/data/Test/detection\n",
      "/home/user/jacobs/cudavision/data/Validation\n",
      "/home/user/jacobs/cudavision/data/Validation/segmentation\n",
      "/home/user/jacobs/cudavision/data/Validation/image\n",
      "/home/user/jacobs/cudavision/data/Validation/detection\n"
     ]
    }
   ],
   "source": [
    "subdirs = []\n",
    "for split in ['Train','Test','Validation']:\n",
    "    subdirs.append(os.path.join(data_dir,split))\n",
    "categories = ['segmentation','image','detection']\n",
    "\n",
    "for subdir in subdirs:\n",
    "    print(subdir)\n",
    "    os.makedirs(subdir)\n",
    "    for categorie in categories:\n",
    "        print(os.path.join(subdir,categorie))\n",
    "        os.makedirs(os.path.join(subdir,categorie))"
   ]
  },
  {
   "cell_type": "code",
   "execution_count": 36,
   "metadata": {},
   "outputs": [],
   "source": [
    "for origin in ['blob/dataset','blob/forceTrain','blob/forceTest']:\n",
    "    sourcepath= os.path.join(working_directory,origin)\n",
    "    sourcefiles = os.listdir(sourcepath)\n",
    "    destinationpath_image = os.path.join(data_dir,'Train/image')\n",
    "    destinationpath_detection = os.path.join(data_dir,'Train/detection')\n",
    "    for file in sourcefiles:\n",
    "        if file.endswith('.png') or file.endswith('.jpg'):\n",
    "            shutil.move(os.path.join(sourcepath,file), os.path.join(destinationpath_image,file))\n",
    "        else:\n",
    "            if file.endswith('.xml'):\n",
    "                shutil.move(os.path.join(sourcepath,file), os.path.join(destinationpath_detection,file))\n",
    "                \n",
    "def move_files(source_path,destination_path):\n",
    "    source_files = os.listdir(source_path)\n",
    "    for file in source_files:\n",
    "        shutil.move(os.path.join(source_path,file), os.path.join(destination_path,file))\n",
    "        \n",
    "move_files(os.path.join(working_directory,'segmentation/forceTrain/image'),os.path.join(data_dir,'Train/image'))\n",
    "move_files(os.path.join(working_directory,'segmentation/forceTrain/target'),os.path.join(data_dir,'Train/segmentation'))\n",
    "move_files(os.path.join(working_directory,'segmentation/dataset/image'), os.path.join(data_dir,'Train/image'))\n",
    "move_files(os.path.join(working_directory,'segmentation/dataset/target'), os.path.join(data_dir,'Train/segmentation'))"
   ]
  },
  {
   "cell_type": "code",
   "execution_count": 37,
   "metadata": {},
   "outputs": [],
   "source": [
    "folder_names = ['blob/dataset','blob/forceTest','blob/forceTrain','segmentation/dataset/image','segmentation/dataset/target','segmentation/forceTrain/image','segmentation/forceTrain/target']\n",
    "for folder_name in folder_names:\n",
    "    os.rmdir(os.path.join(working_directory,folder_name))\n",
    "folder_names = ['blob','segmentation/dataset','segmentation/forceTrain']\n",
    "for folder_name in folder_names:\n",
    "    os.rmdir(os.path.join(working_directory,folder_name))\n",
    "os.rmdir(os.path.join(working_directory,'segmentation'))"
   ]
  },
  {
   "cell_type": "code",
   "execution_count": 78,
   "metadata": {},
   "outputs": [],
   "source": [
    "# Need to delete images, which are duplicate\n",
    "destinationpath_image = os.path.join(data_dir,'Train/image')\n",
    "destination_files = os.listdir(destinationpath_image)\n",
    "destination_files_no_end = []\n",
    "for file in destination_files:\n",
    "    destination_files_no_end.append(file[:-4])\n",
    "count = Counter(destination_files_no_end)\n",
    "for name in count:\n",
    "    if count[name] > 1:\n",
    "        os.remove(os.path.join(destinationpath_image,name+'.jpg'))"
   ]
  },
  {
   "cell_type": "code",
   "execution_count": 79,
   "metadata": {},
   "outputs": [],
   "source": [
    "# Create Split"
   ]
  },
  {
   "cell_type": "code",
   "execution_count": 80,
   "metadata": {},
   "outputs": [],
   "source": [
    "from RobotData import RobotsDataset\n",
    "import pandas as pd"
   ]
  },
  {
   "cell_type": "code",
   "execution_count": 82,
   "metadata": {},
   "outputs": [
    {
     "name": "stdout",
     "output_type": "stream",
     "text": [
      "Generated both csv with 1110 entries\n",
      "Generated seg csv with 1192 entries\n",
      "Generated det csv with 8851 entries\n"
     ]
    }
   ],
   "source": [
    "dataset = RobotsDataset(data_loc = os.path.join(data_dir,'Train'),mode = 'det',transform=None)"
   ]
  },
  {
   "cell_type": "code",
   "execution_count": 83,
   "metadata": {},
   "outputs": [],
   "source": [
    "index = {'det': dataset.index_det,\n",
    "         'seg': dataset.index_seg,\n",
    "         'both': dataset.index_both\n",
    "        }"
   ]
  },
  {
   "cell_type": "code",
   "execution_count": 230,
   "metadata": {},
   "outputs": [],
   "source": [
    "import random\n",
    "index_all = pd.merge(index['det'], index['seg'], on=['name'], how='outer', indicator=True).filter(['name','_merge'])\n",
    "for mode in ['both', 'left_only', 'right_only']:\n",
    "    subset = index_all['_merge'] == mode\n",
    "    num_samples = len(index_all[subset])\n",
    "    split_values = ['train']*int(0.7*num_samples) + ['test']*int(0.2*num_samples) + ['validation']* (num_samples - int(0.7*num_samples) - int(0.3*num_samples))\n",
    "    random.shuffle(split_values)\n",
    "    index_all.loc[subset,'split'] = split_values\n",
    "    \n",
    "index_all.set_index('name', inplace = True)\n",
    "index_all.rename(columns={'_merge': 'mode'}, inplace=True)\n",
    "index_all['mode'].replace('left_only','det', inplace = True)\n",
    "index_all['mode'].replace('right_only','seg', inplace = True)"
   ]
  },
  {
   "cell_type": "code",
   "execution_count": 205,
   "metadata": {},
   "outputs": [],
   "source": [
    "# Move data into directories\n",
    "def get_name(file):\n",
    "    return file[:-4]\n",
    "source_path = os.path.join(data_dir,'Train/image')\n",
    "source = os.listdir(source_path)\n",
    "missing = []\n",
    "for file in source:\n",
    "    if get_name(file) in index_all.index:\n",
    "        if index_all.loc[get_name(file),'split'] == 'test':\n",
    "            destination_path = os.path.join(data_dir,'Test/image')\n",
    "            shutil.move(os.path.join(source_path,file), os.path.join(destination_path,file))\n",
    "        if index_all.loc[get_name(file),'split'] == 'validation':\n",
    "            destination_path = os.path.join(data_dir,'Validation/image')\n",
    "            shutil.move(os.path.join(source_path,file), os.path.join(destination_path,file))\n",
    "    else:\n",
    "        missing.append(file)   \n",
    "        \n",
    "source_path = os.path.join(data_dir,'Train/segmentation')\n",
    "source = os.listdir(source_path)\n",
    "missing_seg = []\n",
    "for file in source:\n",
    "    if get_name(file) in index_all.index:\n",
    "        if index_all.loc[get_name(file),'split'] == 'test':\n",
    "            destination_path = os.path.join(data_dir,'Test/segmentation')\n",
    "            shutil.move(os.path.join(source_path,file), os.path.join(destination_path,file))\n",
    "        if index_all.loc[get_name(file),'split'] == 'validation':\n",
    "            destination_path = os.path.join(data_dir,'Validation/segmentation')\n",
    "            shutil.move(os.path.join(source_path,file), os.path.join(destination_path,file))\n",
    "    else:\n",
    "        missing_seg.append(file)\n",
    "\n",
    "source_path = os.path.join(data_dir,'Train/detection')\n",
    "source = os.listdir(source_path)\n",
    "missing_det = []\n",
    "for file in source:\n",
    "    if get_name(file) in index_all.index:\n",
    "        if index_all.loc[get_name(file),'split'] == 'test':\n",
    "            destination_path = os.path.join(data_dir,'Test/detection')\n",
    "            shutil.move(os.path.join(source_path,file), os.path.join(destination_path,file))\n",
    "        if index_all.loc[get_name(file),'split'] == 'validation':\n",
    "            destination_path = os.path.join(data_dir,'Validation/detection')\n",
    "            shutil.move(os.path.join(source_path,file), os.path.join(destination_path,file))\n",
    "    else:\n",
    "        missing_det.append(file)    "
   ]
  },
  {
   "cell_type": "code",
   "execution_count": 206,
   "metadata": {},
   "outputs": [
    {
     "data": {
      "text/plain": [
       "['label.xml',\n",
       " '2018-06-17-15-16-11_.xml',\n",
       " '2018-06-17-15-17-38_.xml',\n",
       " '2018-06-17-15-13-20_.xml',\n",
       " '2018-06-17-23-06-10_.xml',\n",
       " '2018-06-17-15-17-52_.xml',\n",
       " 'bs15_leipzig_robocup16_012.000.xml',\n",
       " 'output_iHOP__0072_copy.xml',\n",
       " 'frame0594_dropin.xml',\n",
       " 'frame0504_dropin.xml',\n",
       " '2018-06-17-23-06-50_.xml',\n",
       " '2018-06-17-15-13-07_.xml',\n",
       " '2018-06-17-15-15-28_.xml',\n",
       " 'bs15_leipzig_robocup16_011.650.xml',\n",
       " '2018-06-17-23-10-49_.xml',\n",
       " 'frame0506_dropin.xml',\n",
       " '2018-06-17-15-17-44_.xml',\n",
       " 'oleg_frame0362d.xml']"
      ]
     },
     "execution_count": 206,
     "metadata": {},
     "output_type": "execute_result"
    }
   ],
   "source": [
    "# Here the target is present, but no matching image\n",
    "missing_det"
   ]
  },
  {
   "cell_type": "code",
   "execution_count": 239,
   "metadata": {},
   "outputs": [],
   "source": [
    "split = index_all.filter(['split'])\n",
    "split.to_pickle(os.path.join(working_directory,'split.pkl'))"
   ]
  },
  {
   "cell_type": "code",
   "execution_count": 248,
   "metadata": {},
   "outputs": [],
   "source": [
    "# Delete old index files\n",
    "source_files = os.listdir(data_dir)\n",
    "for file in source_files:\n",
    "    if file.endswith('.csv'):\n",
    "        os.remove(os.path.join(data_dir,file))"
   ]
  },
  {
   "cell_type": "code",
   "execution_count": 7,
   "metadata": {},
   "outputs": [],
   "source": [
    "# Initialize meta data with the new split\n",
    "dataset_dir = os.path.join(working_directory,'Robot_datasets')\n",
    "meta = MetaData(dataset_dir = dataset_dir, split_df = split)"
   ]
  }
 ],
 "metadata": {
  "kernelspec": {
   "display_name": "Python 3",
   "language": "python",
   "name": "python3"
  },
  "language_info": {
   "codemirror_mode": {
    "name": "ipython",
    "version": 3
   },
   "file_extension": ".py",
   "mimetype": "text/x-python",
   "name": "python",
   "nbconvert_exporter": "python",
   "pygments_lexer": "ipython3",
   "version": "3.7.3"
  }
 },
 "nbformat": 4,
 "nbformat_minor": 2
}
